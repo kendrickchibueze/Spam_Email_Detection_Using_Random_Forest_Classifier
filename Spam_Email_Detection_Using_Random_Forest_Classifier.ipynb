{
 "cells": [
  {
   "cell_type": "code",
   "execution_count": 1,
   "id": "18986f53",
   "metadata": {},
   "outputs": [],
   "source": [
    "import pandas as pd\n",
    "import numpy as np\n",
    "from sklearn.model_selection import train_test_split\n",
    "from sklearn.feature_extraction.text import TfidfVectorizer\n",
    "from sklearn.naive_bayes import MultinomialNB\n",
    "from sklearn.ensemble import RandomForestClassifier, GradientBoostingClassifier\n",
    "from sklearn.metrics import accuracy_score, confusion_matrix, classification_report\n",
    "\n",
    "# Load the data from CSV\n",
    "data = pd.read_csv('spam_email_dataset.csv')"
   ]
  },
  {
   "cell_type": "code",
   "execution_count": 2,
   "id": "d237eba5",
   "metadata": {},
   "outputs": [],
   "source": [
    "# Define the feature (X) and target (y)\n",
    "X = data['Email']\n",
    "y = data['Spam Indicator']\n",
    "\n",
    "# Split the data into training and testing sets\n",
    "X_train, X_test, y_train, y_test = train_test_split(X, y, test_size=0.2, random_state=42)"
   ]
  },
  {
   "cell_type": "code",
   "execution_count": 3,
   "id": "08eb92b1",
   "metadata": {},
   "outputs": [],
   "source": [
    "# Create a TfidfVectorizer to convert text data to numerical features\n",
    "vectorizer = TfidfVectorizer()\n",
    "X_train = vectorizer.fit_transform(X_train)\n",
    "X_test = vectorizer.transform(X_test)\n"
   ]
  },
  {
   "cell_type": "code",
   "execution_count": 4,
   "id": "61e4f42b",
   "metadata": {},
   "outputs": [
    {
     "data": {
      "text/plain": [
       "RandomForestClassifier(random_state=42)"
      ]
     },
     "execution_count": 4,
     "metadata": {},
     "output_type": "execute_result"
    }
   ],
   "source": [
    "# Initialize and train a Naive Bayes classifier\n",
    "nb_classifier = MultinomialNB()\n",
    "nb_classifier.fit(X_train, y_train)\n",
    "\n",
    "# Initialize and train a Random Forest classifier\n",
    "rf_classifier = RandomForestClassifier(random_state=42)\n",
    "rf_classifier.fit(X_train, y_train)"
   ]
  },
  {
   "cell_type": "code",
   "execution_count": 5,
   "id": "28661ad1",
   "metadata": {},
   "outputs": [],
   "source": [
    "# Initialize and train a Gradient Boosting classifier\n",
    "gb_classifier = GradientBoostingClassifier(random_state=42)\n",
    "gb_classifier.fit(X_train, y_train)\n",
    "\n",
    "# Predict the labels for the test set\n",
    "y_nb_pred = nb_classifier.predict(X_test)\n",
    "y_rf_pred = rf_classifier.predict(X_test)\n",
    "y_gb_pred = gb_classifier.predict(X_test)"
   ]
  },
  {
   "cell_type": "code",
   "execution_count": 6,
   "id": "d5cdf339",
   "metadata": {},
   "outputs": [
    {
     "name": "stdout",
     "output_type": "stream",
     "text": [
      "Ensemble Accuracy: 48.67%\n"
     ]
    }
   ],
   "source": [
    "# Combine predictions from different classifiers using majority voting\n",
    "ensemble_predictions = np.concatenate([y_nb_pred.reshape(-1, 1), y_rf_pred.reshape(-1, 1), y_gb_pred.reshape(-1, 1)], axis=1)\n",
    "\n",
    "# Use simple majority voting\n",
    "ensemble_predictions = np.apply_along_axis(lambda x: np.bincount(x).argmax(), axis=1, arr=ensemble_predictions)\n",
    "\n",
    "# Calculate the accuracy of the ensemble model\n",
    "ensemble_accuracy = accuracy_score(y_test, ensemble_predictions)\n",
    "print(f'Ensemble Accuracy: {ensemble_accuracy * 100:.2f}%')"
   ]
  },
  {
   "cell_type": "code",
   "execution_count": 7,
   "id": "fed6c380",
   "metadata": {},
   "outputs": [
    {
     "name": "stdout",
     "output_type": "stream",
     "text": [
      "Confusion Matrix:\n",
      "[[ 19 594]\n",
      " [ 22 565]]\n",
      "Classification Report:\n",
      "              precision    recall  f1-score   support\n",
      "\n",
      "           0       0.46      0.03      0.06       613\n",
      "           1       0.49      0.96      0.65       587\n",
      "\n",
      "    accuracy                           0.49      1200\n",
      "   macro avg       0.48      0.50      0.35      1200\n",
      "weighted avg       0.48      0.49      0.35      1200\n",
      "\n"
     ]
    }
   ],
   "source": [
    "# Generate a confusion matrix and classification report for the ensemble model\n",
    "confusion = confusion_matrix(y_test, ensemble_predictions)\n",
    "report = classification_report(y_test, ensemble_predictions)\n",
    "print(\"Confusion Matrix:\")\n",
    "print(confusion)\n",
    "print(\"Classification Report:\")\n",
    "print(report)"
   ]
  },
  {
   "cell_type": "code",
   "execution_count": null,
   "id": "b6fc385e",
   "metadata": {},
   "outputs": [],
   "source": []
  }
 ],
 "metadata": {
  "kernelspec": {
   "display_name": "Python 3",
   "language": "python",
   "name": "python3"
  },
  "language_info": {
   "codemirror_mode": {
    "name": "ipython",
    "version": 3
   },
   "file_extension": ".py",
   "mimetype": "text/x-python",
   "name": "python",
   "nbconvert_exporter": "python",
   "pygments_lexer": "ipython3",
   "version": "3.8.8"
  }
 },
 "nbformat": 4,
 "nbformat_minor": 5
}
